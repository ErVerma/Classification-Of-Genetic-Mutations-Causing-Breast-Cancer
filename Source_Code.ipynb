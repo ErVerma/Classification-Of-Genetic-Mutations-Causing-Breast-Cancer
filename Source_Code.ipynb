{
  "nbformat": 4,
  "nbformat_minor": 0,
  "metadata": {
    "colab": {
      "name": "Source_Code_Manoj_M190493cs.ipynb",
      "provenance": [],
      "collapsed_sections": [],
      "toc_visible": true
    },
    "kernelspec": {
      "name": "python3",
      "display_name": "Python 3"
    },
    "accelerator": "GPU"
  },
  "cells": [
    {
      "cell_type": "code",
      "metadata": {
        "id": "M2x4V28q9ytM"
      },
      "source": [
        "%matplotlib inline \n",
        "#Used for plotting graph \n",
        "import pandas as pd\n",
        "import numpy as np\n",
        "\n",
        "import os\n",
        "\n",
        "from keras.preprocessing.text import Tokenizer\n",
        "from keras.preprocessing.sequence import pad_sequences\n",
        "from keras.models import Sequential\n",
        "from keras.layers import Dense, Embedding,LSTM,Dropout\n",
        "from sklearn.metrics.classification import accuracy_score, log_loss\n",
        "from keras.models import load_model\n",
        "from keras.optimizers import Adam\n",
        "from keras.utils.np_utils import to_categorical\n",
        "from keras.callbacks import ModelCheckpoint\n",
        "\n",
        "\n"
      ],
      "execution_count": null,
      "outputs": []
    },
    {
      "cell_type": "markdown",
      "metadata": {
        "id": "CoEzLUEnCuke"
      },
      "source": [
        "Checking GPU Alloted"
      ]
    },
    {
      "cell_type": "code",
      "metadata": {
        "colab": {
          "base_uri": "https://localhost:8080/",
          "height": 35
        },
        "id": "rH4WPg1qw_v0",
        "outputId": "951aeeba-4566-4a8f-de78-50281eda80f3"
      },
      "source": [
        "import tensorflow as tf\n",
        "tf.test.gpu_device_name()"
      ],
      "execution_count": null,
      "outputs": [
        {
          "output_type": "execute_result",
          "data": {
            "application/vnd.google.colaboratory.intrinsic+json": {
              "type": "string"
            },
            "text/plain": [
              "'/device:GPU:0'"
            ]
          },
          "metadata": {
            "tags": []
          },
          "execution_count": 9
        }
      ]
    },
    {
      "cell_type": "markdown",
      "metadata": {
        "id": "err_w5P5LpZk"
      },
      "source": [
        "Run This Cell For Adding Reference of Data"
      ]
    },
    {
      "cell_type": "code",
      "metadata": {
        "id": "5dXggID1LoJ0"
      },
      "source": [
        "from google.colab import drive\n",
        "drive.mount('/content/drive')"
      ],
      "execution_count": null,
      "outputs": []
    },
    {
      "cell_type": "markdown",
      "metadata": {
        "id": "Thdq23m8oxzb"
      },
      "source": [
        "Training Data Variants\n"
      ]
    },
    {
      "cell_type": "code",
      "metadata": {
        "colab": {
          "base_uri": "https://localhost:8080/",
          "height": 206
        },
        "id": "v8pwUp_a_N6S",
        "outputId": "c8c8a261-3cd7-4da4-dbda-65c1d9bf2c0e"
      },
      "source": [
        "data_variants = pd.read_csv('/content/drive/MyDrive/mskdata/training_variants')\n",
        "data_variants.head()  \n"
      ],
      "execution_count": null,
      "outputs": [
        {
          "output_type": "execute_result",
          "data": {
            "text/html": [
              "<div>\n",
              "<style scoped>\n",
              "    .dataframe tbody tr th:only-of-type {\n",
              "        vertical-align: middle;\n",
              "    }\n",
              "\n",
              "    .dataframe tbody tr th {\n",
              "        vertical-align: top;\n",
              "    }\n",
              "\n",
              "    .dataframe thead th {\n",
              "        text-align: right;\n",
              "    }\n",
              "</style>\n",
              "<table border=\"1\" class=\"dataframe\">\n",
              "  <thead>\n",
              "    <tr style=\"text-align: right;\">\n",
              "      <th></th>\n",
              "      <th>ID</th>\n",
              "      <th>Gene</th>\n",
              "      <th>Variation</th>\n",
              "      <th>Class</th>\n",
              "    </tr>\n",
              "  </thead>\n",
              "  <tbody>\n",
              "    <tr>\n",
              "      <th>0</th>\n",
              "      <td>0</td>\n",
              "      <td>FAM58A</td>\n",
              "      <td>Truncating Mutations</td>\n",
              "      <td>1</td>\n",
              "    </tr>\n",
              "    <tr>\n",
              "      <th>1</th>\n",
              "      <td>1</td>\n",
              "      <td>CBL</td>\n",
              "      <td>W802*</td>\n",
              "      <td>2</td>\n",
              "    </tr>\n",
              "    <tr>\n",
              "      <th>2</th>\n",
              "      <td>2</td>\n",
              "      <td>CBL</td>\n",
              "      <td>Q249E</td>\n",
              "      <td>2</td>\n",
              "    </tr>\n",
              "    <tr>\n",
              "      <th>3</th>\n",
              "      <td>3</td>\n",
              "      <td>CBL</td>\n",
              "      <td>N454D</td>\n",
              "      <td>3</td>\n",
              "    </tr>\n",
              "    <tr>\n",
              "      <th>4</th>\n",
              "      <td>4</td>\n",
              "      <td>CBL</td>\n",
              "      <td>L399V</td>\n",
              "      <td>4</td>\n",
              "    </tr>\n",
              "  </tbody>\n",
              "</table>\n",
              "</div>"
            ],
            "text/plain": [
              "   ID    Gene             Variation  Class\n",
              "0   0  FAM58A  Truncating Mutations      1\n",
              "1   1     CBL                 W802*      2\n",
              "2   2     CBL                 Q249E      2\n",
              "3   3     CBL                 N454D      3\n",
              "4   4     CBL                 L399V      4"
            ]
          },
          "metadata": {
            "tags": []
          },
          "execution_count": 10
        }
      ]
    },
    {
      "cell_type": "markdown",
      "metadata": {
        "id": "2kSQlKNGo9Lw"
      },
      "source": [
        "Unique Top 20 Genes"
      ]
    },
    {
      "cell_type": "code",
      "metadata": {
        "colab": {
          "base_uri": "https://localhost:8080/",
          "height": 314
        },
        "id": "LjZM0b5gZ_aj",
        "outputId": "b06a3e45-80dc-4dfb-f960-6634885c3d7d"
      },
      "source": [
        "unique_genes_distribution = data_variants['Gene'].value_counts()\n",
        "unique_genes_distribution.head(30).plot(kind = 'bar')\n",
        "\n",
        "#print(unique_genes_distribution.head(40))\n"
      ],
      "execution_count": null,
      "outputs": [
        {
          "output_type": "execute_result",
          "data": {
            "text/plain": [
              "<matplotlib.axes._subplots.AxesSubplot at 0x7f09900afa50>"
            ]
          },
          "metadata": {
            "tags": []
          },
          "execution_count": 11
        },
        {
          "output_type": "display_data",
          "data": {
            "image/png": "[encoded data removed]",
            "text/plain": [
              "<Figure size 432x288 with 1 Axes>"
            ]
          },
          "metadata": {
            "tags": [],
            "needs_background": "light"
          }
        }
      ]
    },
    {
      "cell_type": "code",
      "metadata": {
        "colab": {
          "base_uri": "https://localhost:8080/"
        },
        "id": "OpR3rf-R_cgX",
        "outputId": "e9ae7523-5b2d-4298-b6af-61a8fb51aa25"
      },
      "source": [
        "data_variants.isnull().sum()\n",
        "#Cheking If data_variants contains Null Values"
      ],
      "execution_count": null,
      "outputs": [
        {
          "output_type": "execute_result",
          "data": {
            "text/plain": [
              "ID           0\n",
              "Gene         0\n",
              "Variation    0\n",
              "Class        0\n",
              "dtype: int64"
            ]
          },
          "metadata": {
            "tags": []
          },
          "execution_count": 12
        }
      ]
    },
    {
      "cell_type": "markdown",
      "metadata": {
        "id": "sEt_0asqpHY7"
      },
      "source": [
        "Training Text Data"
      ]
    },
    {
      "cell_type": "code",
      "metadata": {
        "colab": {
          "base_uri": "https://localhost:8080/",
          "height": 206
        },
        "id": "QDQutLud_k39",
        "outputId": "22646d68-2cd5-4721-93e8-08b39e72e33b"
      },
      "source": [
        "data_text =pd.read_csv(\"/content/drive/MyDrive/mskdata/training_text\",sep=\"\\|\\|\",engine=\"python\",names=[\"ID\",\"TEXT\"],skiprows=1)\n",
        "data_text.head()\n"
      ],
      "execution_count": null,
      "outputs": [
        {
          "output_type": "execute_result",
          "data": {
            "text/html": [
              "<div>\n",
              "<style scoped>\n",
              "    .dataframe tbody tr th:only-of-type {\n",
              "        vertical-align: middle;\n",
              "    }\n",
              "\n",
              "    .dataframe tbody tr th {\n",
              "        vertical-align: top;\n",
              "    }\n",
              "\n",
              "    .dataframe thead th {\n",
              "        text-align: right;\n",
              "    }\n",
              "</style>\n",
              "<table border=\"1\" class=\"dataframe\">\n",
              "  <thead>\n",
              "    <tr style=\"text-align: right;\">\n",
              "      <th></th>\n",
              "      <th>ID</th>\n",
              "      <th>TEXT</th>\n",
              "    </tr>\n",
              "  </thead>\n",
              "  <tbody>\n",
              "    <tr>\n",
              "      <th>0</th>\n",
              "      <td>0</td>\n",
              "      <td>Cyclin-dependent kinases (CDKs) regulate a var...</td>\n",
              "    </tr>\n",
              "    <tr>\n",
              "      <th>1</th>\n",
              "      <td>1</td>\n",
              "      <td>Abstract Background  Non-small cell lung canc...</td>\n",
              "    </tr>\n",
              "    <tr>\n",
              "      <th>2</th>\n",
              "      <td>2</td>\n",
              "      <td>Abstract Background  Non-small cell lung canc...</td>\n",
              "    </tr>\n",
              "    <tr>\n",
              "      <th>3</th>\n",
              "      <td>3</td>\n",
              "      <td>Recent evidence has demonstrated that acquired...</td>\n",
              "    </tr>\n",
              "    <tr>\n",
              "      <th>4</th>\n",
              "      <td>4</td>\n",
              "      <td>Oncogenic mutations in the monomeric Casitas B...</td>\n",
              "    </tr>\n",
              "  </tbody>\n",
              "</table>\n",
              "</div>"
            ],
            "text/plain": [
              "   ID                                               TEXT\n",
              "0   0  Cyclin-dependent kinases (CDKs) regulate a var...\n",
              "1   1   Abstract Background  Non-small cell lung canc...\n",
              "2   2   Abstract Background  Non-small cell lung canc...\n",
              "3   3  Recent evidence has demonstrated that acquired...\n",
              "4   4  Oncogenic mutations in the monomeric Casitas B..."
            ]
          },
          "metadata": {
            "tags": []
          },
          "execution_count": 13
        }
      ]
    },
    {
      "cell_type": "code",
      "metadata": {
        "id": "9C4Bswsa_xaA",
        "colab": {
          "base_uri": "https://localhost:8080/"
        },
        "outputId": "b39db4af-b22f-4814-c155-48680a44e904"
      },
      "source": [
        "data_text.isnull().sum()\n"
      ],
      "execution_count": null,
      "outputs": [
        {
          "output_type": "execute_result",
          "data": {
            "text/plain": [
              "ID      0\n",
              "TEXT    5\n",
              "dtype: int64"
            ]
          },
          "metadata": {
            "tags": []
          },
          "execution_count": 14
        }
      ]
    },
    {
      "cell_type": "code",
      "metadata": {
        "id": "4ktsQ-vb_zix",
        "colab": {
          "base_uri": "https://localhost:8080/"
        },
        "outputId": "7c761420-155d-43e7-9ec4-eb1ef9df09f7"
      },
      "source": [
        "data_text.dropna(axis=0,how='any',inplace=True)\n",
        "data_text.isnull().sum()\n"
      ],
      "execution_count": null,
      "outputs": [
        {
          "output_type": "execute_result",
          "data": {
            "text/plain": [
              "ID      0\n",
              "TEXT    0\n",
              "dtype: int64"
            ]
          },
          "metadata": {
            "tags": []
          },
          "execution_count": 15
        }
      ]
    },
    {
      "cell_type": "code",
      "metadata": {
        "colab": {
          "base_uri": "https://localhost:8080/"
        },
        "id": "74Q5YhVkDA0A",
        "outputId": "d35f345d-0162-4e5e-bb7c-01bea89aca10"
      },
      "source": [
        "from nltk.corpus import stopwords\n",
        "import nltk\n",
        "nltk.download('stopwords')\n",
        "sw = set(stopwords.words('english'))\n",
        "def nlp_preprocessing(totaltext,row,col):\n",
        "    if type(totaltext) is not int:\n",
        "        string = \"\"\n",
        "        #Replace special characters with space\n",
        "        totaltext = re.sub('[^a-zA-Z0-9\\n]',' ',totaltext)\n",
        "\n",
        "         #Replace multiple tab with single space\n",
        "        totaltext = re.sub('\\s+',' ',totaltext)\n",
        "\n",
        "        #lower-case all the characters\n",
        "        totaltext= totaltext.lower()\n",
        "       \n",
        "        for word in totaltext.split():\n",
        "            # if the word is a not a stop word then retain that word from the data\n",
        "            if not word in sw:\n",
        "                string += word+' '\n",
        "                \n",
        "        data_text[col][row] = string\n",
        "        \n",
        "        \n",
        "      "
      ],
      "execution_count": null,
      "outputs": [
        {
          "output_type": "stream",
          "text": [
            "[nltk_data] Downloading package stopwords to /root/nltk_data...\n",
            "[nltk_data]   Unzipping corpora/stopwords.zip.\n"
          ],
          "name": "stdout"
        }
      ]
    },
    {
      "cell_type": "markdown",
      "metadata": {
        "id": "6G3ISmFmDadS"
      },
      "source": [
        "Calling nlp_preprocessing method created above for Preprocessing"
      ]
    },
    {
      "cell_type": "code",
      "metadata": {
        "colab": {
          "base_uri": "https://localhost:8080/"
        },
        "id": "R8vVcdMQD3As",
        "outputId": "c6b2b110-8e56-428e-ecf1-ea53c9c0c0d5"
      },
      "source": [
        "import time\n",
        "import re\n",
        "\n",
        "for index, row in data_text.iterrows():\n",
        "    nlp_preprocessing(row['TEXT'], index, 'TEXT')"
      ],
      "execution_count": null,
      "outputs": [
        {
          "output_type": "stream",
          "text": [
            "/usr/local/lib/python3.7/dist-packages/ipykernel_launcher.py:21: SettingWithCopyWarning: \n",
            "A value is trying to be set on a copy of a slice from a DataFrame\n",
            "\n",
            "See the caveats in the documentation: https://pandas.pydata.org/pandas-docs/stable/user_guide/indexing.html#returning-a-view-versus-a-copy\n"
          ],
          "name": "stderr"
        }
      ]
    },
    {
      "cell_type": "code",
      "metadata": {
        "id": "rRoZ6VsREIFH",
        "colab": {
          "base_uri": "https://localhost:8080/",
          "height": 206
        },
        "outputId": "b39f8e1f-301e-4b35-e7ed-394e9fa622ff"
      },
      "source": [
        "dataframe_train = pd.merge(data_variants,data_text,on= 'ID',how = 'left')\n",
        "dataframe_train.head()\n",
        "\n"
      ],
      "execution_count": null,
      "outputs": [
        {
          "output_type": "execute_result",
          "data": {
            "text/html": [
              "<div>\n",
              "<style scoped>\n",
              "    .dataframe tbody tr th:only-of-type {\n",
              "        vertical-align: middle;\n",
              "    }\n",
              "\n",
              "    .dataframe tbody tr th {\n",
              "        vertical-align: top;\n",
              "    }\n",
              "\n",
              "    .dataframe thead th {\n",
              "        text-align: right;\n",
              "    }\n",
              "</style>\n",
              "<table border=\"1\" class=\"dataframe\">\n",
              "  <thead>\n",
              "    <tr style=\"text-align: right;\">\n",
              "      <th></th>\n",
              "      <th>ID</th>\n",
              "      <th>Gene</th>\n",
              "      <th>Variation</th>\n",
              "      <th>Class</th>\n",
              "      <th>TEXT</th>\n",
              "    </tr>\n",
              "  </thead>\n",
              "  <tbody>\n",
              "    <tr>\n",
              "      <th>0</th>\n",
              "      <td>0</td>\n",
              "      <td>FAM58A</td>\n",
              "      <td>Truncating Mutations</td>\n",
              "      <td>1</td>\n",
              "      <td>cyclin dependent kinases cdks regulate variety...</td>\n",
              "    </tr>\n",
              "    <tr>\n",
              "      <th>1</th>\n",
              "      <td>1</td>\n",
              "      <td>CBL</td>\n",
              "      <td>W802*</td>\n",
              "      <td>2</td>\n",
              "      <td>abstract background non small cell lung cancer...</td>\n",
              "    </tr>\n",
              "    <tr>\n",
              "      <th>2</th>\n",
              "      <td>2</td>\n",
              "      <td>CBL</td>\n",
              "      <td>Q249E</td>\n",
              "      <td>2</td>\n",
              "      <td>abstract background non small cell lung cancer...</td>\n",
              "    </tr>\n",
              "    <tr>\n",
              "      <th>3</th>\n",
              "      <td>3</td>\n",
              "      <td>CBL</td>\n",
              "      <td>N454D</td>\n",
              "      <td>3</td>\n",
              "      <td>recent evidence demonstrated acquired uniparen...</td>\n",
              "    </tr>\n",
              "    <tr>\n",
              "      <th>4</th>\n",
              "      <td>4</td>\n",
              "      <td>CBL</td>\n",
              "      <td>L399V</td>\n",
              "      <td>4</td>\n",
              "      <td>oncogenic mutations monomeric casitas b lineag...</td>\n",
              "    </tr>\n",
              "  </tbody>\n",
              "</table>\n",
              "</div>"
            ],
            "text/plain": [
              "   ID    Gene  ... Class                                               TEXT\n",
              "0   0  FAM58A  ...     1  cyclin dependent kinases cdks regulate variety...\n",
              "1   1     CBL  ...     2  abstract background non small cell lung cancer...\n",
              "2   2     CBL  ...     2  abstract background non small cell lung cancer...\n",
              "3   3     CBL  ...     3  recent evidence demonstrated acquired uniparen...\n",
              "4   4     CBL  ...     4  oncogenic mutations monomeric casitas b lineag...\n",
              "\n",
              "[5 rows x 5 columns]"
            ]
          },
          "metadata": {
            "tags": []
          },
          "execution_count": 18
        }
      ]
    },
    {
      "cell_type": "code",
      "metadata": {
        "id": "h-43wEsQERoV"
      },
      "source": [
        "dataframe_train['full_text'] = dataframe_train[['Gene','Variation']].apply(lambda x: ' '.join(x),axis=1)\n"
      ],
      "execution_count": null,
      "outputs": []
    },
    {
      "cell_type": "code",
      "metadata": {
        "id": "Ex2GFlJLEVTJ"
      },
      "source": [
        "dataframe_train['TEXT'] = dataframe_train['TEXT'].astype(str)\n",
        "\n"
      ],
      "execution_count": null,
      "outputs": []
    },
    {
      "cell_type": "code",
      "metadata": {
        "id": "kumMPa8WEXl4"
      },
      "source": [
        "dataframe_train['full_text'] = dataframe_train[['full_text','TEXT']].apply(lambda x: ' '.join(x),axis=1)\n"
      ],
      "execution_count": null,
      "outputs": []
    },
    {
      "cell_type": "code",
      "metadata": {
        "id": "f9VZhfj4Eblh",
        "colab": {
          "base_uri": "https://localhost:8080/",
          "height": 293
        },
        "outputId": "aa1e07fb-778b-4a3f-e74c-2ebac9f0b520"
      },
      "source": [
        "dataframe_train.head()\n",
        "\n"
      ],
      "execution_count": null,
      "outputs": [
        {
          "output_type": "execute_result",
          "data": {
            "text/html": [
              "<div>\n",
              "<style scoped>\n",
              "    .dataframe tbody tr th:only-of-type {\n",
              "        vertical-align: middle;\n",
              "    }\n",
              "\n",
              "    .dataframe tbody tr th {\n",
              "        vertical-align: top;\n",
              "    }\n",
              "\n",
              "    .dataframe thead th {\n",
              "        text-align: right;\n",
              "    }\n",
              "</style>\n",
              "<table border=\"1\" class=\"dataframe\">\n",
              "  <thead>\n",
              "    <tr style=\"text-align: right;\">\n",
              "      <th></th>\n",
              "      <th>ID</th>\n",
              "      <th>Gene</th>\n",
              "      <th>Variation</th>\n",
              "      <th>Class</th>\n",
              "      <th>TEXT</th>\n",
              "      <th>full_text</th>\n",
              "    </tr>\n",
              "  </thead>\n",
              "  <tbody>\n",
              "    <tr>\n",
              "      <th>0</th>\n",
              "      <td>0</td>\n",
              "      <td>FAM58A</td>\n",
              "      <td>Truncating Mutations</td>\n",
              "      <td>1</td>\n",
              "      <td>cyclin dependent kinases cdks regulate variety...</td>\n",
              "      <td>FAM58A Truncating Mutations cyclin dependent k...</td>\n",
              "    </tr>\n",
              "    <tr>\n",
              "      <th>1</th>\n",
              "      <td>1</td>\n",
              "      <td>CBL</td>\n",
              "      <td>W802*</td>\n",
              "      <td>2</td>\n",
              "      <td>abstract background non small cell lung cancer...</td>\n",
              "      <td>CBL W802* abstract background non small cell l...</td>\n",
              "    </tr>\n",
              "    <tr>\n",
              "      <th>2</th>\n",
              "      <td>2</td>\n",
              "      <td>CBL</td>\n",
              "      <td>Q249E</td>\n",
              "      <td>2</td>\n",
              "      <td>abstract background non small cell lung cancer...</td>\n",
              "      <td>CBL Q249E abstract background non small cell l...</td>\n",
              "    </tr>\n",
              "    <tr>\n",
              "      <th>3</th>\n",
              "      <td>3</td>\n",
              "      <td>CBL</td>\n",
              "      <td>N454D</td>\n",
              "      <td>3</td>\n",
              "      <td>recent evidence demonstrated acquired uniparen...</td>\n",
              "      <td>CBL N454D recent evidence demonstrated acquire...</td>\n",
              "    </tr>\n",
              "    <tr>\n",
              "      <th>4</th>\n",
              "      <td>4</td>\n",
              "      <td>CBL</td>\n",
              "      <td>L399V</td>\n",
              "      <td>4</td>\n",
              "      <td>oncogenic mutations monomeric casitas b lineag...</td>\n",
              "      <td>CBL L399V oncogenic mutations monomeric casita...</td>\n",
              "    </tr>\n",
              "  </tbody>\n",
              "</table>\n",
              "</div>"
            ],
            "text/plain": [
              "   ID  ...                                          full_text\n",
              "0   0  ...  FAM58A Truncating Mutations cyclin dependent k...\n",
              "1   1  ...  CBL W802* abstract background non small cell l...\n",
              "2   2  ...  CBL Q249E abstract background non small cell l...\n",
              "3   3  ...  CBL N454D recent evidence demonstrated acquire...\n",
              "4   4  ...  CBL L399V oncogenic mutations monomeric casita...\n",
              "\n",
              "[5 rows x 6 columns]"
            ]
          },
          "metadata": {
            "tags": []
          },
          "execution_count": 22
        }
      ]
    },
    {
      "cell_type": "markdown",
      "metadata": {
        "id": "cKiGJSyjDmxh"
      },
      "source": [
        "Distribution Of Different Classes in Used Data"
      ]
    },
    {
      "cell_type": "code",
      "metadata": {
        "id": "YhF8mlvU-6LW",
        "colab": {
          "base_uri": "https://localhost:8080/"
        },
        "outputId": "c4b9772e-9285-47e8-bb83-d80f5600a9a3"
      },
      "source": [
        "class_distribution = dataframe_train['Class'].value_counts()\n",
        "class_distribution"
      ],
      "execution_count": null,
      "outputs": [
        {
          "output_type": "execute_result",
          "data": {
            "text/plain": [
              "7    953\n",
              "4    686\n",
              "1    568\n",
              "2    452\n",
              "6    275\n",
              "5    242\n",
              "3     89\n",
              "9     37\n",
              "8     19\n",
              "Name: Class, dtype: int64"
            ]
          },
          "metadata": {
            "tags": []
          },
          "execution_count": 23
        }
      ]
    },
    {
      "cell_type": "markdown",
      "metadata": {
        "id": "KG150zpaqHbC"
      },
      "source": [
        "Tokenization"
      ]
    },
    {
      "cell_type": "code",
      "metadata": {
        "id": "JvZg7F7VEiRb"
      },
      "source": [
        "# Use the Keras tokenizer\n",
        "voc_size = 10000\n",
        "tokenizer = Tokenizer(num_words=voc_size)\n",
        "tokenizer.fit_on_texts(dataframe_train['full_text'].values)\n"
      ],
      "execution_count": null,
      "outputs": []
    },
    {
      "cell_type": "markdown",
      "metadata": {
        "id": "sy7kHFeLqOSu"
      },
      "source": [
        "Padding"
      ]
    },
    {
      "cell_type": "code",
      "metadata": {
        "id": "NJDzil27ElMT"
      },
      "source": [
        "X = tokenizer.texts_to_sequences(dataframe_train['full_text'].values)\n",
        "X = pad_sequences(X, maxlen=voc_size)\n"
      ],
      "execution_count": null,
      "outputs": []
    },
    {
      "cell_type": "markdown",
      "metadata": {
        "id": "dc1IxlrmoUQB"
      },
      "source": [
        "# Model "
      ]
    },
    {
      "cell_type": "code",
      "metadata": {
        "id": "XgyZ3xHVqVUt",
        "colab": {
          "base_uri": "https://localhost:8080/"
        },
        "outputId": "6ecb55bd-4ac5-4f2d-c955-c72690b7e10a"
      },
      "source": [
        "embed_dimension = 16\n",
        "lstm_out_shape = 166\n",
        "\n",
        "ckpt_callback = ModelCheckpoint('keras_model', \n",
        "                                 monitor='val_loss', \n",
        "                                 verbose=1, \n",
        "                                 save_best_only=True, \n",
        "                                 mode='auto')\n",
        "\n",
        "model = Sequential()\n",
        "model.add(Embedding(voc_size, embed_dimension, input_length = X.shape[1]))\n",
        "\n",
        "model.add(LSTM(lstm_out_shape,return_sequences=True,recurrent_dropout=0, dropout=0))\n",
        "model.add(LSTM(lstm_out_shape,recurrent_dropout=0,dropout=0))\n",
        "model.add(Dense(9,activation='softmax'))\n",
        "model.compile(loss = 'categorical_crossentropy', optimizer='adam', metrics = ['accuracy'])\n",
        "print(model.summary())"
      ],
      "execution_count": null,
      "outputs": [
        {
          "output_type": "stream",
          "text": [
            "Model: \"sequential_4\"\n",
            "_________________________________________________________________\n",
            "Layer (type)                 Output Shape              Param #   \n",
            "=================================================================\n",
            "embedding_4 (Embedding)      (None, 10000, 16)         160000    \n",
            "_________________________________________________________________\n",
            "lstm_8 (LSTM)                (None, 10000, 166)        121512    \n",
            "_________________________________________________________________\n",
            "lstm_9 (LSTM)                (None, 166)               221112    \n",
            "_________________________________________________________________\n",
            "dense_4 (Dense)              (None, 9)                 1503      \n",
            "=================================================================\n",
            "Total params: 504,127\n",
            "Trainable params: 504,127\n",
            "Non-trainable params: 0\n",
            "_________________________________________________________________\n",
            "None\n"
          ],
          "name": "stdout"
        }
      ]
    },
    {
      "cell_type": "markdown",
      "metadata": {
        "id": "icRoDJNrD57M"
      },
      "source": [
        "Execute this Code to Mount Drive for add reference to the data."
      ]
    },
    {
      "cell_type": "markdown",
      "metadata": {
        "id": "lrU3uIzHEEcy"
      },
      "source": [
        "Execution Of The Model over 5 folds"
      ]
    },
    {
      "cell_type": "code",
      "metadata": {
        "colab": {
          "base_uri": "https://localhost:8080/"
        },
        "id": "Tu-RC7etieFP",
        "outputId": "b4f9dee6-9a8f-4ac9-871b-3a64bc827a24"
      },
      "source": [
        "\n",
        "Y=dataframe_train['Class']\n",
        "#Y\n",
        "from sklearn.model_selection import StratifiedKFold\n",
        "#from sklearn.model_selection import StratifiedK\n",
        "skf = StratifiedKFold(n_splits=5, shuffle=True, random_state=1)\n",
        "lstm_test_stratified=[]\n",
        "lstm_train_stratified=[]\n",
        "for train_index, test_index in skf.split(X, Y):\n",
        "    x_train_fold, x_test_fold = X[train_index], X[test_index]\n",
        "    y_train_fold, y_test_fold = Y[train_index], Y[test_index]\n",
        "    #print(y_train_fold)\n",
        "    #print(x_train_fold)\n",
        "    y_train_dummy = pd.get_dummies(y_train_fold).values\n",
        "    y_test_dummy = pd.get_dummies(y_test_fold).values\n",
        "    lstm_train_stratified.append(model.fit(x_train_fold, y_train_dummy))\n",
        "    lstm_test_stratified.append(model.evaluate(x_test_fold,y_test_dummy))"
      ],
      "execution_count": null,
      "outputs": [
        {
          "output_type": "stream",
          "text": [
            "83/83 [==============================] - 71s 850ms/step - loss: 0.4413 - accuracy: 0.8065\n",
            "21/21 [==============================] - 7s 315ms/step - loss: 0.4475 - accuracy: 0.8015\n",
            "84/84 [==============================] - 72s 854ms/step - loss: 0.4339 - accuracy: 0.8073\n",
            "21/21 [==============================] - 7s 315ms/step - loss: 0.4403 - accuracy: 0.8117\n",
            "84/84 [==============================] - 72s 856ms/step - loss: 0.4271 - accuracy: 0.8096\n",
            "21/21 [==============================] - 7s 310ms/step - loss: 0.4335 - accuracy: 0.8012\n",
            "84/84 [==============================] - 72s 857ms/step - loss: 0.4261 - accuracy: 0.8096\n",
            "21/21 [==============================] - 7s 318ms/step - loss: 0.4321 - accuracy: 0.7877\n",
            "84/84 [==============================] - 72s 854ms/step - loss: 0.4351 - accuracy: 0.8020\n",
            "21/21 [==============================] - 7s 315ms/step - loss: 0.4108 - accuracy: 0.8208\n"
          ],
          "name": "stdout"
        }
      ]
    },
    {
      "cell_type": "markdown",
      "metadata": {
        "id": "6H1M45D0EL19"
      },
      "source": [
        "Storing the Accuracy And Losses in Respective Array for Training and Testing"
      ]
    },
    {
      "cell_type": "code",
      "metadata": {
        "id": "BTy79i0MCvID",
        "colab": {
          "base_uri": "https://localhost:8080/"
        },
        "outputId": "020f35ac-90a4-42e1-e283-221ea8e1aa4d"
      },
      "source": [
        "print(lstm_test_stratified)\n",
        "accuracy_test=[]\n",
        "accuracy_train=[]\n",
        "loss_test=[]\n",
        "loss_train=[]\n",
        "\n",
        "for x in lstm_test_stratified:\n",
        "  loss_test.append(x[0])\n",
        "  accuracy_test.append(x[1])\n",
        "\n",
        "for x in lstm_train_stratified:\n",
        "  accuracy_train.append(x.history['accuracy'])\n",
        "  loss_train.append(x.history['loss'])"
      ],
      "execution_count": null,
      "outputs": [
        {
          "output_type": "stream",
          "text": [
            "[[0.44746699929237366, 0.8015037775039673], [0.44033709168434143, 0.8117470145225525], [0.43352845311164856, 0.8012048006057739], [0.43207526206970215, 0.7876505851745605], [0.4108198285102844, 0.8207831382751465]]\n"
          ],
          "name": "stdout"
        }
      ]
    },
    {
      "cell_type": "code",
      "metadata": {
        "id": "Hn7XvMgKbdoy"
      },
      "source": [
        "#Predicting Testing Data \n",
        "probas = model.predict(x_test_fold)\n"
      ],
      "execution_count": null,
      "outputs": []
    },
    {
      "cell_type": "code",
      "metadata": {
        "colab": {
          "base_uri": "https://localhost:8080/"
        },
        "id": "37yjPR59beis",
        "outputId": "7558fbc5-d089-409f-a244-7a7edc5680be"
      },
      "source": [
        "pred_indices = np.argmax(probas, axis=1)\n",
        "classes = np.array(range(1, 10))\n",
        "preds = classes[pred_indices]\n",
        "print('Test Log loss: {}'.format(log_loss(classes[np.argmax(y_test_dummy, axis=1)], probas)))\n",
        "print('Test Accuracy: {}'.format(accuracy_score(classes[np.argmax(y_test_dummy, axis=1)], preds)))"
      ],
      "execution_count": null,
      "outputs": [
        {
          "output_type": "stream",
          "text": [
            "Test Log loss: 0.41081979560594956\n",
            "Test Accuracy: 0.8207831325301205\n"
          ],
          "name": "stdout"
        }
      ]
    },
    {
      "cell_type": "markdown",
      "metadata": {
        "id": "alE7OoSzO44O"
      },
      "source": [
        "Confusion Matrix  (Precision)\n",
        "\n"
      ]
    },
    {
      "cell_type": "code",
      "metadata": {
        "id": "j4W-dUdfO7o5"
      },
      "source": [
        "#Precision =True Positive/Sum of Column\n",
        "import matplotlib.pyplot as plt\n",
        "from sklearn.metrics import confusion_matrix\n",
        "import seaborn as sborn\n",
        "def plot_precision_matrix(test_y, predict_y):\n",
        "    Col = confusion_matrix(test_y, predict_y)\n",
        "    A =(((Col.T)/(Col.sum(axis=1))).T)\n",
        "    B =(Col/Col.sum(axis=0))\n",
        "    labels = [1,2,3,4,5,6,7,8,9]\n",
        "    print(\".\"*40, \"Precision matrix\", \".\"*40)\n",
        "    plt.figure(figsize=(20,7))\n",
        "    sborn.heatmap(B, annot=True, cmap=\"YlGnBu\", fmt=\".3f\", xticklabels=labels, yticklabels=labels)\n",
        "    plt.xlabel('Predicted Class')\n",
        "    plt.ylabel('Original Class')\n",
        "    plt.show()\n",
        "    "
      ],
      "execution_count": null,
      "outputs": []
    },
    {
      "cell_type": "code",
      "metadata": {
        "colab": {
          "base_uri": "https://localhost:8080/",
          "height": 406
        },
        "id": "VCI_plDBZj97",
        "outputId": "e497813b-fb9d-4735-9955-fc3aeac837fb"
      },
      "source": [
        "print(y_test_dummy.shape)\n",
        "#print(y_test_dummy)\n",
        "\n",
        "plot_precision_matrix(classes[np.argmax(y_test_dummy, axis=1)], preds)\n",
        "\n"
      ],
      "execution_count": null,
      "outputs": [
        {
          "output_type": "stream",
          "text": [
            "(664, 9)\n",
            "-------------------- Precision matrix --------------------\n"
          ],
          "name": "stdout"
        },
        {
          "output_type": "display_data",
          "data": {
            "image/png": "[encoded data removed]",
            "text/plain": [
              "<Figure size 1440x504 with 2 Axes>"
            ]
          },
          "metadata": {
            "tags": [],
            "needs_background": "light"
          }
        }
      ]
    },
    {
      "cell_type": "code",
      "metadata": {
        "id": "yLS2nELFffLx"
      },
      "source": [
        "\n",
        "probas_train = model.predict(x_train_fold)\n",
        "    "
      ],
      "execution_count": null,
      "outputs": []
    },
    {
      "cell_type": "code",
      "metadata": {
        "colab": {
          "base_uri": "https://localhost:8080/"
        },
        "id": "nlqZEhkofj7Q",
        "outputId": "ee3c4080-9b06-44f2-d010-f0a2de88af6f"
      },
      "source": [
        "pred_indices_train = np.argmax(probas_train, axis=1)\n",
        "classes = np.array(range(1, 10))\n",
        "preds_train = classes[pred_indices_train]\n",
        "print('Train Log loss: {}'.format(log_loss(classes[np.argmax(y_train_dummy, axis=1)], probas_train)))\n",
        "print('Train Accuracy: {}'.format(accuracy_score(classes[np.argmax(y_train_dummy, axis=1)], preds_train)))\n"
      ],
      "execution_count": null,
      "outputs": [
        {
          "output_type": "stream",
          "text": [
            "Train Log loss: 0.39876324112418765\n",
            "Train Accuracy: 0.8178396687993978\n"
          ],
          "name": "stdout"
        }
      ]
    },
    {
      "cell_type": "code",
      "metadata": {
        "colab": {
          "base_uri": "https://localhost:8080/",
          "height": 403
        },
        "id": "rmFN235Jfwq_",
        "outputId": "c470b949-ff27-418c-aba3-4859be554606"
      },
      "source": [
        "plot_precision_matrix(classes[np.argmax(y_train_dummy, axis=1)], preds_train)\n",
        "print(y_train_dummy.shape)"
      ],
      "execution_count": null,
      "outputs": [
        {
          "output_type": "stream",
          "text": [
            "-------------------- Precision matrix --------------------\n"
          ],
          "name": "stdout"
        },
        {
          "output_type": "display_data",
          "data": {
            "image/png": "[encoded data removed]",
            "text/plain": [
              "<Figure size 1440x504 with 2 Axes>"
            ]
          },
          "metadata": {
            "tags": [],
            "needs_background": "light"
          }
        },
        {
          "output_type": "stream",
          "text": [
            "(2657, 9)\n"
          ],
          "name": "stdout"
        }
      ]
    }
  ]
}